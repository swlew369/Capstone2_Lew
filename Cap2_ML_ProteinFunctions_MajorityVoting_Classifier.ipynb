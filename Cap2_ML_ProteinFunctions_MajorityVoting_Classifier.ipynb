{
 "cells": [
  {
   "cell_type": "code",
   "execution_count": 1,
   "metadata": {},
   "outputs": [],
   "source": [
    "import pandas as pd\n",
    "import numpy as np\n",
    "import seaborn as sns\n",
    "import matplotlib.pyplot as plt\n",
    "import time\n",
    "import re\n",
    "import nltk\n",
    "import math\n",
    "import pickle\n",
    "\n",
    "import xgboost\n",
    "\n",
    "from xgboost import XGBClassifier\n",
    "from sklearn.ensemble import VotingClassifier\n",
    "from sklearn.linear_model import PassiveAggressiveClassifier\n",
    "from sklearn.linear_model import RidgeClassifier\n",
    "from sklearn.naive_bayes import MultinomialNB\n",
    "from sklearn import linear_model\n",
    "from sklearn.linear_model import Perceptron\n",
    "\n",
    "from sklearn import svm\n",
    "from sklearn.preprocessing import StandardScaler\n",
    "from sklearn.model_selection import train_test_split, GridSearchCV\n",
    "from sklearn.tree import DecisionTreeClassifier\n",
    "from sklearn.linear_model import LogisticRegression\n",
    "from sklearn.neighbors import KNeighborsClassifier\n",
    "from sklearn.ensemble import RandomForestClassifier\n",
    "from nltk.corpus import stopwords\n",
    "from sklearn.feature_extraction.text import TfidfVectorizer\n",
    "from sklearn.feature_extraction.text import CountVectorizer\n",
    "import sklearn.metrics\n",
    "from sklearn.metrics import confusion_matrix\n",
    "from sklearn.metrics import classification_report\n",
    "\n",
    "from Bio.SeqUtils.ProtParam import ProteinAnalysis\n",
    "from sklearn import preprocessing\n",
    "from sklearn.model_selection import cross_val_score, cross_val_predict\n",
    "\n",
    "%matplotlib inline"
   ]
  },
  {
   "cell_type": "code",
   "execution_count": 2,
   "metadata": {},
   "outputs": [
    {
     "name": "stderr",
     "output_type": "stream",
     "text": [
      "/Users/scottlew/anaconda2/lib/python2.7/site-packages/IPython/core/interactiveshell.py:2714: DtypeWarning: Columns (3) have mixed types. Specify dtype option on import or set low_memory=False.\n",
      "  interactivity=interactivity, compiler=compiler, result=result)\n"
     ]
    },
    {
     "data": {
      "text/html": [
       "<div>\n",
       "<style scoped>\n",
       "    .dataframe tbody tr th:only-of-type {\n",
       "        vertical-align: middle;\n",
       "    }\n",
       "\n",
       "    .dataframe tbody tr th {\n",
       "        vertical-align: top;\n",
       "    }\n",
       "\n",
       "    .dataframe thead th {\n",
       "        text-align: right;\n",
       "    }\n",
       "</style>\n",
       "<table border=\"1\" class=\"dataframe\">\n",
       "  <thead>\n",
       "    <tr style=\"text-align: right;\">\n",
       "      <th></th>\n",
       "      <th>classification</th>\n",
       "      <th>name</th>\n",
       "      <th>sequence</th>\n",
       "      <th>structureId</th>\n",
       "      <th>type</th>\n",
       "    </tr>\n",
       "  </thead>\n",
       "  <tbody>\n",
       "    <tr>\n",
       "      <th>0</th>\n",
       "      <td>TRANSFERASE</td>\n",
       "      <td>NaN</td>\n",
       "      <td>MEIYEGKLTAEGLRFGIVASRFNHALVDRLVEGAIDCIVRHGGREE...</td>\n",
       "      <td>5MPP</td>\n",
       "      <td>4</td>\n",
       "    </tr>\n",
       "    <tr>\n",
       "      <th>1</th>\n",
       "      <td>HYDROLASE</td>\n",
       "      <td>NaN</td>\n",
       "      <td>MKFTLTIAGLLAVGSTAAPTTEKRNPGGIDYVQNYNGDVADFQYNE...</td>\n",
       "      <td>3M4F</td>\n",
       "      <td>0</td>\n",
       "    </tr>\n",
       "    <tr>\n",
       "      <th>2</th>\n",
       "      <td>TRANSFERASE</td>\n",
       "      <td>NaN</td>\n",
       "      <td>MRGSHHHHHHGSMKRAVITGLGIVSSIGNNQQEVLASLREGRSGIT...</td>\n",
       "      <td>2BYY</td>\n",
       "      <td>4</td>\n",
       "    </tr>\n",
       "    <tr>\n",
       "      <th>3</th>\n",
       "      <td>HYDROLASE</td>\n",
       "      <td>NaN</td>\n",
       "      <td>STGSATTTPIDSLDDAYITPVQIGTPAQTLNLDFDTGSSDLWVFSS...</td>\n",
       "      <td>4YCY</td>\n",
       "      <td>0</td>\n",
       "    </tr>\n",
       "    <tr>\n",
       "      <th>4</th>\n",
       "      <td>TRANSFERASE</td>\n",
       "      <td>NaN</td>\n",
       "      <td>GSGMMRYLHKIELELNRLTSRYPFFKKIAFDAEIIKLVDDLNVDEN...</td>\n",
       "      <td>3AQC</td>\n",
       "      <td>4</td>\n",
       "    </tr>\n",
       "  </tbody>\n",
       "</table>\n",
       "</div>"
      ],
      "text/plain": [
       "  classification name                                           sequence  \\\n",
       "0    TRANSFERASE  NaN  MEIYEGKLTAEGLRFGIVASRFNHALVDRLVEGAIDCIVRHGGREE...   \n",
       "1      HYDROLASE  NaN  MKFTLTIAGLLAVGSTAAPTTEKRNPGGIDYVQNYNGDVADFQYNE...   \n",
       "2    TRANSFERASE  NaN  MRGSHHHHHHGSMKRAVITGLGIVSSIGNNQQEVLASLREGRSGIT...   \n",
       "3      HYDROLASE  NaN  STGSATTTPIDSLDDAYITPVQIGTPAQTLNLDFDTGSSDLWVFSS...   \n",
       "4    TRANSFERASE  NaN  GSGMMRYLHKIELELNRLTSRYPFFKKIAFDAEIIKLVDDLNVDEN...   \n",
       "\n",
       "  structureId  type  \n",
       "0        5MPP     4  \n",
       "1        3M4F     0  \n",
       "2        2BYY     4  \n",
       "3        4YCY     0  \n",
       "4        3AQC     4  "
      ]
     },
     "execution_count": 2,
     "metadata": {},
     "output_type": "execute_result"
    }
   ],
   "source": [
    "# Load the data\n",
    "\n",
    "df_ = pd.read_csv('protein-11-Functions-April9.csv')\n",
    "\n",
    "df_.head()"
   ]
  },
  {
   "cell_type": "code",
   "execution_count": null,
   "metadata": {},
   "outputs": [],
   "source": []
  },
  {
   "cell_type": "markdown",
   "metadata": {},
   "source": [
    "## 11 Classes of Proteins"
   ]
  },
  {
   "cell_type": "code",
   "execution_count": 3,
   "metadata": {},
   "outputs": [
    {
     "data": {
      "text/plain": [
       "DNA BINDING            52997\n",
       "TRANSPORT              38052\n",
       "OXIDOREDUCTASE         37557\n",
       "HYDROLASE              37436\n",
       "TRANSFERASE            35880\n",
       "LIGASE                 33967\n",
       "IMMUNE SYSTEM          33433\n",
       "GPCR                   31399\n",
       "LIPID BINDING          31188\n",
       "IRON-SULFUR-CLUSTER    31185\n",
       "ISOMERASE              16988\n",
       "Name: classification, dtype: int64"
      ]
     },
     "execution_count": 3,
     "metadata": {},
     "output_type": "execute_result"
    }
   ],
   "source": [
    "df_.classification.value_counts()"
   ]
  },
  {
   "cell_type": "code",
   "execution_count": 4,
   "metadata": {},
   "outputs": [
    {
     "data": {
      "text/plain": [
       "12    52997\n",
       "10    38052\n",
       "5     37557\n",
       "0     37436\n",
       "4     35880\n",
       "3     33967\n",
       "1     33433\n",
       "8     31399\n",
       "9     31188\n",
       "6     31185\n",
       "2     16988\n",
       "Name: type, dtype: int64"
      ]
     },
     "execution_count": 4,
     "metadata": {},
     "output_type": "execute_result"
    }
   ],
   "source": [
    "df_.type.value_counts()"
   ]
  },
  {
   "cell_type": "markdown",
   "metadata": {},
   "source": [
    "## Subset the data: use fewer rows of data for quicker comparison of XGBoost with other models"
   ]
  },
  {
   "cell_type": "code",
   "execution_count": 5,
   "metadata": {},
   "outputs": [
    {
     "data": {
      "text/plain": [
       "(380082, 5)"
      ]
     },
     "execution_count": 5,
     "metadata": {},
     "output_type": "execute_result"
    }
   ],
   "source": [
    "df_new= df_.sample(frac = 1.0)\n",
    "\n",
    "df_new.shape"
   ]
  },
  {
   "cell_type": "markdown",
   "metadata": {},
   "source": [
    "## Classifier of Protein Sequences: Predict 11 Classes"
   ]
  },
  {
   "cell_type": "markdown",
   "metadata": {},
   "source": [
    "## CountVectorizer: Count peptide frequency, transform the data"
   ]
  },
  {
   "cell_type": "code",
   "execution_count": 6,
   "metadata": {},
   "outputs": [],
   "source": [
    "# In this case, peptide frequency is used for analysis\n",
    "peptide_size = 5\n",
    "vect_ = CountVectorizer(min_df=1,token_pattern=r'\\w{1}',ngram_range=(peptide_size,peptide_size))"
   ]
  },
  {
   "cell_type": "markdown",
   "metadata": {},
   "source": [
    "## Split the data into training & test sets for classification model"
   ]
  },
  {
   "cell_type": "code",
   "execution_count": 7,
   "metadata": {},
   "outputs": [],
   "source": [
    "X = vect_.fit_transform(df_new.sequence)\n",
    "y = df_new.type"
   ]
  },
  {
   "cell_type": "code",
   "execution_count": 8,
   "metadata": {},
   "outputs": [
    {
     "name": "stdout",
     "output_type": "stream",
     "text": [
      "((304065, 3062983), (304065,))\n",
      "((76017, 3062983), (76017,))\n"
     ]
    }
   ],
   "source": [
    "# Split the data into training and test sets\n",
    "X_train, X_test, y_train, y_test = train_test_split(X,y, test_size=0.2,random_state =42)\n",
    "print(X_train.shape, y_train.shape)\n",
    "print(X_test.shape, y_test.shape)"
   ]
  },
  {
   "cell_type": "code",
   "execution_count": 9,
   "metadata": {},
   "outputs": [
    {
     "data": {
      "text/plain": [
       "12    10609\n",
       "10     7595\n",
       "5      7588\n",
       "0      7382\n",
       "4      7275\n",
       "3      6798\n",
       "1      6633\n",
       "8      6309\n",
       "9      6245\n",
       "6      6170\n",
       "2      3413\n",
       "Name: type, dtype: int64"
      ]
     },
     "execution_count": 9,
     "metadata": {},
     "output_type": "execute_result"
    }
   ],
   "source": [
    "y_test.value_counts()"
   ]
  },
  {
   "cell_type": "markdown",
   "metadata": {},
   "source": [
    "## Classification Models"
   ]
  },
  {
   "cell_type": "markdown",
   "metadata": {},
   "source": [
    "## Voting Models"
   ]
  },
  {
   "cell_type": "code",
   "execution_count": 10,
   "metadata": {},
   "outputs": [
    {
     "name": "stderr",
     "output_type": "stream",
     "text": [
      "/Users/scottlew/anaconda2/lib/python2.7/site-packages/sklearn/linear_model/stochastic_gradient.py:166: FutureWarning: max_iter and tol parameters have been added in PassiveAggressiveClassifier in 0.19. If both are left unset, they default to max_iter=5 and tol=None. If tol is not None, max_iter defaults to max_iter=1000. From 0.21, default max_iter will be 1000, and default tol will be 1e-3.\n",
      "  FutureWarning)\n"
     ]
    },
    {
     "name": "stdout",
     "output_type": "stream",
     "text": [
      "Majority Voting Classifier Score: 0.89\n",
      "()\n",
      "CPU times: user 5min 37s, sys: 3.58 s, total: 5min 41s\n",
      "Wall time: 5min 37s\n"
     ]
    }
   ],
   "source": [
    "%%time\n",
    "clf1 = linear_model.SGDClassifier(max_iter=1000, tol=1e-3)\n",
    "clf2 = PassiveAggressiveClassifier(C=0.1)\n",
    "\n",
    "eclf1 = VotingClassifier(estimators=[('sgd',clf1), ('pac',clf2)], voting='hard')\n",
    "eclf1.fit(X_train, y_train)\n",
    "# evaluate accuracy of our model on test data\n",
    "print(\"Majority Voting Classifier Score: {:.2f}\".format(eclf1.score(X_test, y_test)))\n",
    "print()"
   ]
  },
  {
   "cell_type": "code",
   "execution_count": 11,
   "metadata": {},
   "outputs": [
    {
     "name": "stdout",
     "output_type": "stream",
     "text": [
      "Confusion Matrix for Voting Model\n",
      "()\n",
      "[[6384   87    9   70  250   85    0    1    3  173  320]\n",
      " [  79 6475    0    8   12    4    0    0    0   18   37]\n",
      " [ 153   10 3075   13   54   28    0    1    2   30   47]\n",
      " [ 271   19    3 5972   90   32    0    7    5  100  299]\n",
      " [ 545   40   11   73 5978  102    0    1   27  161  337]\n",
      " [ 266   22   10   26  135 6868    5    4    0  103  149]\n",
      " [   3    1    0    0    2    8 6149    0    0    5    2]\n",
      " [  46    1    0    8   11    6    0 6136    0   42   59]\n",
      " [  99    4    0    9   35   22    0    0 5943   89   44]\n",
      " [ 456   63    3   86  154   87    0   36   79 6059  572]\n",
      " [ 424  100   47  259  295  135    0  143    7  524 8675]]\n"
     ]
    }
   ],
   "source": [
    "# Generate Confusion Matrix for Voting Model\n",
    "actual = y_test\n",
    "predictions = eclf1.predict(X_test)\n",
    "print('Confusion Matrix for Voting Model')\n",
    "print()\n",
    "cm = confusion_matrix(actual,predictions)\n",
    "print(cm)"
   ]
  },
  {
   "cell_type": "code",
   "execution_count": 12,
   "metadata": {},
   "outputs": [
    {
     "name": "stdout",
     "output_type": "stream",
     "text": [
      "              precision    recall  f1-score   support\n",
      "\n",
      "           0       0.86      0.73      0.79      8726\n",
      "           1       0.98      0.95      0.96      6822\n",
      "           2       0.90      0.97      0.94      3158\n",
      "           3       0.88      0.92      0.90      6524\n",
      "           4       0.82      0.85      0.84      7016\n",
      "           5       0.91      0.93      0.92      7377\n",
      "           6       1.00      1.00      1.00      6154\n",
      "           8       0.97      0.97      0.97      6329\n",
      "           9       0.95      0.98      0.97      6066\n",
      "          10       0.80      0.83      0.81      7304\n",
      "          12       0.82      0.82      0.82     10541\n",
      "\n",
      "   micro avg       0.89      0.89      0.89     76017\n",
      "   macro avg       0.90      0.90      0.90     76017\n",
      "weighted avg       0.89      0.89      0.89     76017\n",
      "\n"
     ]
    }
   ],
   "source": [
    "vote_prediction1 = eclf1.predict(X_test)\n",
    "print(classification_report(vote_prediction1, y_test))"
   ]
  },
  {
   "cell_type": "code",
   "execution_count": 13,
   "metadata": {},
   "outputs": [
    {
     "name": "stdout",
     "output_type": "stream",
     "text": [
      "Majority Voting Classifier Score: 0.89\n",
      "()\n",
      "CPU times: user 6min 4s, sys: 6.37 s, total: 6min 10s\n",
      "Wall time: 6min 5s\n"
     ]
    }
   ],
   "source": [
    "%%time\n",
    "clf1a = linear_model.SGDClassifier(max_iter=1000, tol=1e-3)\n",
    "clf2a = PassiveAggressiveClassifier(C=0.1)\n",
    "clf3a = MultinomialNB(alpha=50)\n",
    "\n",
    "eclf2 = VotingClassifier(estimators=[('sgd', clf1a), ('pac', clf2a), ('mnb', clf3a)], voting='hard')\n",
    "eclf2.fit(X_train, y_train)\n",
    "# evaluate accuracy of our model on test data\n",
    "print(\"Majority Voting Classifier Score: {:.2f}\".format(eclf2.score(X_test, y_test)))\n",
    "print()"
   ]
  },
  {
   "cell_type": "code",
   "execution_count": 14,
   "metadata": {},
   "outputs": [
    {
     "name": "stdout",
     "output_type": "stream",
     "text": [
      "Confusion Matrix for Voting Model\n",
      "()\n",
      "[[6189   38    8   93  256   76    0    1    4  175  542]\n",
      " [  71 6394    0   10   12    1    0    0    0   10  135]\n",
      " [ 139    3 3021   30   50   24    0    1    1   24  120]\n",
      " [ 170    9    3 5942   84   23    0    8    5   71  483]\n",
      " [ 437   21    8  139 5837   74    0    3   27  166  563]\n",
      " [ 231   14    8   88   99 6787    5    7    0   86  263]\n",
      " [   1    0    0    1    2    5 6140    0    0    5   16]\n",
      " [   6    0    0    3    3    2    0 6185    0   48   62]\n",
      " [  76    4    0   11   27   19    0    3 5916   83  106]\n",
      " [ 378   43    2  124  109   62    3   50   72 5843  909]\n",
      " [ 300   56   33  207  211   97    0  139   11  364 9191]]\n"
     ]
    }
   ],
   "source": [
    "# Generate Confusion Matrix for Voting Model\n",
    "actual = y_test\n",
    "predictions = eclf2.predict(X_test)\n",
    "print('Confusion Matrix for Voting Model')\n",
    "print()\n",
    "cm = confusion_matrix(actual,predictions)\n",
    "print(cm)"
   ]
  },
  {
   "cell_type": "code",
   "execution_count": 15,
   "metadata": {},
   "outputs": [
    {
     "name": "stdout",
     "output_type": "stream",
     "text": [
      "              precision    recall  f1-score   support\n",
      "\n",
      "           0       0.84      0.77      0.80      7998\n",
      "           1       0.96      0.97      0.97      6582\n",
      "           2       0.89      0.98      0.93      3083\n",
      "           3       0.87      0.89      0.88      6648\n",
      "           4       0.80      0.87      0.84      6690\n",
      "           5       0.89      0.95      0.92      7170\n",
      "           6       1.00      1.00      1.00      6148\n",
      "           8       0.98      0.97      0.97      6397\n",
      "           9       0.95      0.98      0.96      6036\n",
      "          10       0.77      0.85      0.81      6875\n",
      "          12       0.87      0.74      0.80     12390\n",
      "\n",
      "   micro avg       0.89      0.89      0.89     76017\n",
      "   macro avg       0.89      0.91      0.90     76017\n",
      "weighted avg       0.89      0.89      0.89     76017\n",
      "\n"
     ]
    }
   ],
   "source": [
    "vote_prediction2 = eclf2.predict(X_test)\n",
    "print(classification_report(vote_prediction2, y_test))"
   ]
  },
  {
   "cell_type": "code",
   "execution_count": 16,
   "metadata": {},
   "outputs": [],
   "source": [
    "#######################################################################################"
   ]
  },
  {
   "cell_type": "code",
   "execution_count": 17,
   "metadata": {},
   "outputs": [
    {
     "data": {
      "image/png": "[encoded data removed]",
      "text/plain": [
       "<Figure size 648x648 with 1 Axes>"
      ]
     },
     "metadata": {
      "needs_background": "light"
     },
     "output_type": "display_data"
    }
   ],
   "source": [
    "# Confusion matrix made pretty for Capstone report\n",
    "\n",
    "plt.figure(figsize=(9,9))\n",
    "sns.heatmap(cm, annot=True, fmt=\".0f\", linewidths=.5, square = True, cmap = 'Blues_r',cbar=None);\n",
    "plt.ylabel('Actual label');\n",
    "plt.xlabel('Predicted label');\n",
    "\n",
    "plt.title('Confusion Matrix', size = 15)\n",
    "plt.savefig('ConfusionMatrix_VotingClassifier_Functions_1.png')"
   ]
  },
  {
   "cell_type": "code",
   "execution_count": null,
   "metadata": {},
   "outputs": [],
   "source": []
  }
 ],
 "metadata": {
  "kernelspec": {
   "display_name": "Python 2",
   "language": "python",
   "name": "python2"
  },
  "language_info": {
   "codemirror_mode": {
    "name": "ipython",
    "version": 2
   },
   "file_extension": ".py",
   "mimetype": "text/x-python",
   "name": "python",
   "nbconvert_exporter": "python",
   "pygments_lexer": "ipython2",
   "version": "2.7.16"
  }
 },
 "nbformat": 4,
 "nbformat_minor": 2
}
