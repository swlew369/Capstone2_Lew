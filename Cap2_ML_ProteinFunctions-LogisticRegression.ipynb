{
 "cells": [
  {
   "cell_type": "code",
   "execution_count": 1,
   "metadata": {},
   "outputs": [],
   "source": [
    "import pandas as pd\n",
    "import numpy as np\n",
    "import seaborn as sns\n",
    "import matplotlib.pyplot as plt\n",
    "import time\n",
    "import re\n",
    "import nltk\n",
    "import math\n",
    "import pickle\n",
    "\n",
    "import xgboost\n",
    "\n",
    "from sklearn.multiclass import OneVsOneClassifier\n",
    "from sklearn.multiclass import OneVsRestClassifier\n",
    "from sklearn.multioutput import MultiOutputClassifier\n",
    "from sklearn.datasets import make_multilabel_classification\n",
    "\n",
    "from xgboost import XGBClassifier\n",
    "from sklearn.ensemble import VotingClassifier\n",
    "from sklearn.linear_model import PassiveAggressiveClassifier\n",
    "from sklearn.linear_model import RidgeClassifier\n",
    "from sklearn.naive_bayes import MultinomialNB\n",
    "from sklearn import linear_model\n",
    "from sklearn.linear_model import Perceptron\n",
    "\n",
    "from sklearn import svm\n",
    "from sklearn.preprocessing import StandardScaler\n",
    "from sklearn.model_selection import train_test_split, GridSearchCV\n",
    "from sklearn.tree import DecisionTreeClassifier\n",
    "from sklearn.linear_model import LogisticRegression\n",
    "from sklearn.neighbors import KNeighborsClassifier\n",
    "from sklearn.ensemble import RandomForestClassifier\n",
    "from nltk.corpus import stopwords\n",
    "from sklearn.feature_extraction.text import TfidfVectorizer\n",
    "from sklearn.feature_extraction.text import CountVectorizer\n",
    "import sklearn.metrics\n",
    "from sklearn.metrics import confusion_matrix\n",
    "from sklearn.metrics import classification_report\n",
    "\n",
    "from Bio.SeqUtils.ProtParam import ProteinAnalysis\n",
    "from sklearn import preprocessing\n",
    "from sklearn.model_selection import cross_val_score, cross_val_predict\n",
    "\n",
    "%matplotlib inline"
   ]
  },
  {
   "cell_type": "code",
   "execution_count": 2,
   "metadata": {},
   "outputs": [
    {
     "data": {
      "text/html": [
       "<div>\n",
       "<style scoped>\n",
       "    .dataframe tbody tr th:only-of-type {\n",
       "        vertical-align: middle;\n",
       "    }\n",
       "\n",
       "    .dataframe tbody tr th {\n",
       "        vertical-align: top;\n",
       "    }\n",
       "\n",
       "    .dataframe thead th {\n",
       "        text-align: right;\n",
       "    }\n",
       "</style>\n",
       "<table border=\"1\" class=\"dataframe\">\n",
       "  <thead>\n",
       "    <tr style=\"text-align: right;\">\n",
       "      <th></th>\n",
       "      <th>classification</th>\n",
       "      <th>name</th>\n",
       "      <th>sequence</th>\n",
       "      <th>structureId</th>\n",
       "      <th>type</th>\n",
       "    </tr>\n",
       "  </thead>\n",
       "  <tbody>\n",
       "    <tr>\n",
       "      <th>0</th>\n",
       "      <td>TRANSFERASE</td>\n",
       "      <td>NaN</td>\n",
       "      <td>MEIYEGKLTAEGLRFGIVASRFNHALVDRLVEGAIDCIVRHGGREE...</td>\n",
       "      <td>5MPP</td>\n",
       "      <td>4</td>\n",
       "    </tr>\n",
       "    <tr>\n",
       "      <th>1</th>\n",
       "      <td>HYDROLASE</td>\n",
       "      <td>NaN</td>\n",
       "      <td>MKFTLTIAGLLAVGSTAAPTTEKRNPGGIDYVQNYNGDVADFQYNE...</td>\n",
       "      <td>3M4F</td>\n",
       "      <td>0</td>\n",
       "    </tr>\n",
       "    <tr>\n",
       "      <th>2</th>\n",
       "      <td>TRANSFERASE</td>\n",
       "      <td>NaN</td>\n",
       "      <td>MRGSHHHHHHGSMKRAVITGLGIVSSIGNNQQEVLASLREGRSGIT...</td>\n",
       "      <td>2BYY</td>\n",
       "      <td>4</td>\n",
       "    </tr>\n",
       "    <tr>\n",
       "      <th>3</th>\n",
       "      <td>HYDROLASE</td>\n",
       "      <td>NaN</td>\n",
       "      <td>STGSATTTPIDSLDDAYITPVQIGTPAQTLNLDFDTGSSDLWVFSS...</td>\n",
       "      <td>4YCY</td>\n",
       "      <td>0</td>\n",
       "    </tr>\n",
       "    <tr>\n",
       "      <th>4</th>\n",
       "      <td>TRANSFERASE</td>\n",
       "      <td>NaN</td>\n",
       "      <td>GSGMMRYLHKIELELNRLTSRYPFFKKIAFDAEIIKLVDDLNVDEN...</td>\n",
       "      <td>3AQC</td>\n",
       "      <td>4</td>\n",
       "    </tr>\n",
       "  </tbody>\n",
       "</table>\n",
       "</div>"
      ],
      "text/plain": [
       "  classification name                                           sequence  \\\n",
       "0    TRANSFERASE  NaN  MEIYEGKLTAEGLRFGIVASRFNHALVDRLVEGAIDCIVRHGGREE...   \n",
       "1      HYDROLASE  NaN  MKFTLTIAGLLAVGSTAAPTTEKRNPGGIDYVQNYNGDVADFQYNE...   \n",
       "2    TRANSFERASE  NaN  MRGSHHHHHHGSMKRAVITGLGIVSSIGNNQQEVLASLREGRSGIT...   \n",
       "3      HYDROLASE  NaN  STGSATTTPIDSLDDAYITPVQIGTPAQTLNLDFDTGSSDLWVFSS...   \n",
       "4    TRANSFERASE  NaN  GSGMMRYLHKIELELNRLTSRYPFFKKIAFDAEIIKLVDDLNVDEN...   \n",
       "\n",
       "  structureId  type  \n",
       "0        5MPP     4  \n",
       "1        3M4F     0  \n",
       "2        2BYY     4  \n",
       "3        4YCY     0  \n",
       "4        3AQC     4  "
      ]
     },
     "execution_count": 2,
     "metadata": {},
     "output_type": "execute_result"
    }
   ],
   "source": [
    "# read in data from csv file\n",
    "df = pd.read_csv('proteins-5-functions.csv')\n",
    "\n",
    "df.head()"
   ]
  },
  {
   "cell_type": "code",
   "execution_count": 3,
   "metadata": {},
   "outputs": [
    {
     "data": {
      "text/html": [
       "<div>\n",
       "<style scoped>\n",
       "    .dataframe tbody tr th:only-of-type {\n",
       "        vertical-align: middle;\n",
       "    }\n",
       "\n",
       "    .dataframe tbody tr th {\n",
       "        vertical-align: top;\n",
       "    }\n",
       "\n",
       "    .dataframe thead th {\n",
       "        text-align: right;\n",
       "    }\n",
       "</style>\n",
       "<table border=\"1\" class=\"dataframe\">\n",
       "  <thead>\n",
       "    <tr style=\"text-align: right;\">\n",
       "      <th></th>\n",
       "      <th>name</th>\n",
       "      <th>sequence</th>\n",
       "      <th>classification</th>\n",
       "      <th>type</th>\n",
       "    </tr>\n",
       "  </thead>\n",
       "  <tbody>\n",
       "    <tr>\n",
       "      <th>0</th>\n",
       "      <td>tr|Q6FGW4|Q6FGW4_HUMAN</td>\n",
       "      <td>MHSSALLCCLVLLTGVRASPGQGTQSENSCTHFPGNLPNMLRDLRD...</td>\n",
       "      <td>IMMUNE SYSTEM</td>\n",
       "      <td>1</td>\n",
       "    </tr>\n",
       "    <tr>\n",
       "      <th>1</th>\n",
       "      <td>tr|A0A024R5Z3|A0A024R5Z3_HUMAN</td>\n",
       "      <td>MSSILPFTPPIVKRLLGWKKGEQNGQEEKWCEKAVKSLVKKLKKTG...</td>\n",
       "      <td>IMMUNE SYSTEM</td>\n",
       "      <td>1</td>\n",
       "    </tr>\n",
       "    <tr>\n",
       "      <th>2</th>\n",
       "      <td>tr|A0A0B4Q6D0|A0A0B4Q6D0_9PLVG</td>\n",
       "      <td>MRVKGIRKNYQHLWRGGTLLLGMLMICSAVEKLWVTVYYGVPVWKE...</td>\n",
       "      <td>IMMUNE SYSTEM</td>\n",
       "      <td>1</td>\n",
       "    </tr>\n",
       "    <tr>\n",
       "      <th>3</th>\n",
       "      <td>tr|A0A0B4Q7W6|A0A0B4Q7W6_9PLVG</td>\n",
       "      <td>MRVKGIRKNYQHLWRGGTLLLGMLMICSAVEKLWVTVYYGVPVWKE...</td>\n",
       "      <td>IMMUNE SYSTEM</td>\n",
       "      <td>1</td>\n",
       "    </tr>\n",
       "    <tr>\n",
       "      <th>4</th>\n",
       "      <td>tr|A0A0B4Q6H6|A0A0B4Q6H6_9PLVG</td>\n",
       "      <td>MRVKGIRKNYQHLWRGGTLLLGMLMICSAVEKLWVTVHYGVPVWKE...</td>\n",
       "      <td>IMMUNE SYSTEM</td>\n",
       "      <td>1</td>\n",
       "    </tr>\n",
       "  </tbody>\n",
       "</table>\n",
       "</div>"
      ],
      "text/plain": [
       "                             name  \\\n",
       "0          tr|Q6FGW4|Q6FGW4_HUMAN   \n",
       "1  tr|A0A024R5Z3|A0A024R5Z3_HUMAN   \n",
       "2  tr|A0A0B4Q6D0|A0A0B4Q6D0_9PLVG   \n",
       "3  tr|A0A0B4Q7W6|A0A0B4Q7W6_9PLVG   \n",
       "4  tr|A0A0B4Q6H6|A0A0B4Q6H6_9PLVG   \n",
       "\n",
       "                                            sequence classification  type  \n",
       "0  MHSSALLCCLVLLTGVRASPGQGTQSENSCTHFPGNLPNMLRDLRD...  IMMUNE SYSTEM     1  \n",
       "1  MSSILPFTPPIVKRLLGWKKGEQNGQEEKWCEKAVKSLVKKLKKTG...  IMMUNE SYSTEM     1  \n",
       "2  MRVKGIRKNYQHLWRGGTLLLGMLMICSAVEKLWVTVYYGVPVWKE...  IMMUNE SYSTEM     1  \n",
       "3  MRVKGIRKNYQHLWRGGTLLLGMLMICSAVEKLWVTVYYGVPVWKE...  IMMUNE SYSTEM     1  \n",
       "4  MRVKGIRKNYQHLWRGGTLLLGMLMICSAVEKLWVTVHYGVPVWKE...  IMMUNE SYSTEM     1  "
      ]
     },
     "execution_count": 3,
     "metadata": {},
     "output_type": "execute_result"
    }
   ],
   "source": [
    "# read in more immune system sequences data from csv file\n",
    "df_2 = pd.read_csv('uniprot-human-immune.csv')\n",
    "\n",
    "df_2.head()"
   ]
  },
  {
   "cell_type": "code",
   "execution_count": 4,
   "metadata": {},
   "outputs": [
    {
     "data": {
      "text/plain": [
       "(84798, 4)"
      ]
     },
     "execution_count": 4,
     "metadata": {},
     "output_type": "execute_result"
    }
   ],
   "source": [
    "df_2.shape"
   ]
  },
  {
   "cell_type": "code",
   "execution_count": 5,
   "metadata": {},
   "outputs": [
    {
     "data": {
      "text/plain": [
       "(27983, 4)"
      ]
     },
     "execution_count": 5,
     "metadata": {},
     "output_type": "execute_result"
    }
   ],
   "source": [
    "df3 = df_2.sample(frac=0.33)\n",
    "df3.shape"
   ]
  },
  {
   "cell_type": "code",
   "execution_count": 6,
   "metadata": {},
   "outputs": [
    {
     "data": {
      "text/html": [
       "<div>\n",
       "<style scoped>\n",
       "    .dataframe tbody tr th:only-of-type {\n",
       "        vertical-align: middle;\n",
       "    }\n",
       "\n",
       "    .dataframe tbody tr th {\n",
       "        vertical-align: top;\n",
       "    }\n",
       "\n",
       "    .dataframe thead th {\n",
       "        text-align: right;\n",
       "    }\n",
       "</style>\n",
       "<table border=\"1\" class=\"dataframe\">\n",
       "  <thead>\n",
       "    <tr style=\"text-align: right;\">\n",
       "      <th></th>\n",
       "      <th>name</th>\n",
       "      <th>sequence</th>\n",
       "      <th>classification</th>\n",
       "      <th>type</th>\n",
       "    </tr>\n",
       "  </thead>\n",
       "  <tbody>\n",
       "    <tr>\n",
       "      <th>0</th>\n",
       "      <td>sp|P9WNH5|HSAD_MYCTU</td>\n",
       "      <td>MTATEELTFESTSRFAEVDVDGPLKLHYHEAGVGNDQTVVLLHGGG...</td>\n",
       "      <td>HYDROLASE</td>\n",
       "      <td>0</td>\n",
       "    </tr>\n",
       "    <tr>\n",
       "      <th>1</th>\n",
       "      <td>sp|P77044|MHPC_ECOLI</td>\n",
       "      <td>MSYQPQTEAATSRFLNVEEAGKTLRIHFNDCGQGDETVVLLHGSGP...</td>\n",
       "      <td>HYDROLASE</td>\n",
       "      <td>0</td>\n",
       "    </tr>\n",
       "    <tr>\n",
       "      <th>2</th>\n",
       "      <td>sp|Q75UV1|NDX1_THETH</td>\n",
       "      <td>MELGAGGVVFNAKREVLLLRDRMGFWVFPKGHPEPGESLEEAAVRE...</td>\n",
       "      <td>HYDROLASE</td>\n",
       "      <td>0</td>\n",
       "    </tr>\n",
       "    <tr>\n",
       "      <th>3</th>\n",
       "      <td>sp|Q60928|GGT1_MOUSE</td>\n",
       "      <td>MKNRFLVLGLVAVVLVFVIIGLCIWLPYTSGKPDHVYSRAAVATDA...</td>\n",
       "      <td>HYDROLASE</td>\n",
       "      <td>0</td>\n",
       "    </tr>\n",
       "    <tr>\n",
       "      <th>4</th>\n",
       "      <td>sp|P19440|GGT1_HUMAN</td>\n",
       "      <td>MKKKLVVLGLLAVVLVLVIVGLCLWLPSASKEPDNHVYTRAAVAAD...</td>\n",
       "      <td>HYDROLASE</td>\n",
       "      <td>0</td>\n",
       "    </tr>\n",
       "  </tbody>\n",
       "</table>\n",
       "</div>"
      ],
      "text/plain": [
       "                   name                                           sequence  \\\n",
       "0  sp|P9WNH5|HSAD_MYCTU  MTATEELTFESTSRFAEVDVDGPLKLHYHEAGVGNDQTVVLLHGGG...   \n",
       "1  sp|P77044|MHPC_ECOLI  MSYQPQTEAATSRFLNVEEAGKTLRIHFNDCGQGDETVVLLHGSGP...   \n",
       "2  sp|Q75UV1|NDX1_THETH  MELGAGGVVFNAKREVLLLRDRMGFWVFPKGHPEPGESLEEAAVRE...   \n",
       "3  sp|Q60928|GGT1_MOUSE  MKNRFLVLGLVAVVLVFVIIGLCIWLPYTSGKPDHVYSRAAVATDA...   \n",
       "4  sp|P19440|GGT1_HUMAN  MKKKLVVLGLLAVVLVLVIVGLCLWLPSASKEPDNHVYTRAAVAAD...   \n",
       "\n",
       "  classification  type  \n",
       "0      HYDROLASE     0  \n",
       "1      HYDROLASE     0  \n",
       "2      HYDROLASE     0  \n",
       "3      HYDROLASE     0  \n",
       "4      HYDROLASE     0  "
      ]
     },
     "execution_count": 6,
     "metadata": {},
     "output_type": "execute_result"
    }
   ],
   "source": [
    "df_hydro = pd.read_csv('uniprot-hydrolase-reviewed.csv')\n",
    "\n",
    "df_hydro.head()"
   ]
  },
  {
   "cell_type": "code",
   "execution_count": 7,
   "metadata": {},
   "outputs": [
    {
     "data": {
      "text/plain": [
       "(26386, 4)"
      ]
     },
     "execution_count": 7,
     "metadata": {},
     "output_type": "execute_result"
    }
   ],
   "source": [
    "df_h2 = df_hydro.sample(frac=0.45)\n",
    "df_h2.shape"
   ]
  },
  {
   "cell_type": "code",
   "execution_count": 8,
   "metadata": {},
   "outputs": [
    {
     "data": {
      "text/html": [
       "<div>\n",
       "<style scoped>\n",
       "    .dataframe tbody tr th:only-of-type {\n",
       "        vertical-align: middle;\n",
       "    }\n",
       "\n",
       "    .dataframe tbody tr th {\n",
       "        vertical-align: top;\n",
       "    }\n",
       "\n",
       "    .dataframe thead th {\n",
       "        text-align: right;\n",
       "    }\n",
       "</style>\n",
       "<table border=\"1\" class=\"dataframe\">\n",
       "  <thead>\n",
       "    <tr style=\"text-align: right;\">\n",
       "      <th></th>\n",
       "      <th>name</th>\n",
       "      <th>sequence</th>\n",
       "      <th>classification</th>\n",
       "      <th>type</th>\n",
       "    </tr>\n",
       "  </thead>\n",
       "  <tbody>\n",
       "    <tr>\n",
       "      <th>0</th>\n",
       "      <td>sp|Q8L540|LTO1_ARATH</td>\n",
       "      <td>MMARFVSVSSCQFHFGFREVSPPSVTSYPRRFEVSDRRFPAIPIKC...</td>\n",
       "      <td>OXIDOREDUCTASE</td>\n",
       "      <td>5</td>\n",
       "    </tr>\n",
       "    <tr>\n",
       "      <th>1</th>\n",
       "      <td>sp|Q9AL95|NROR_CLOAB</td>\n",
       "      <td>MKSTKILILGAGPAGFSAAKAALGKCDDITMINSEKYLPYYRPRLN...</td>\n",
       "      <td>OXIDOREDUCTASE</td>\n",
       "      <td>5</td>\n",
       "    </tr>\n",
       "    <tr>\n",
       "      <th>2</th>\n",
       "      <td>sp|P55931|ETFD_PIG</td>\n",
       "      <td>MMVPLAKLASPAYQCFHALKIKKNYLPLCATRWSSTCKVPRITTHY...</td>\n",
       "      <td>OXIDOREDUCTASE</td>\n",
       "      <td>5</td>\n",
       "    </tr>\n",
       "    <tr>\n",
       "      <th>3</th>\n",
       "      <td>sp|Q16134|ETFD_HUMAN</td>\n",
       "      <td>MLVPLAKLSCLAYQCFHALKIKKNYLPLCATRWSSTSTVPRITTHY...</td>\n",
       "      <td>OXIDOREDUCTASE</td>\n",
       "      <td>5</td>\n",
       "    </tr>\n",
       "    <tr>\n",
       "      <th>4</th>\n",
       "      <td>sp|Q9NZC7|WWOX_HUMAN</td>\n",
       "      <td>MAALRYAGLDDTDSEDELPPGWEERTTKDGWVYYANHTEEKTQWEH...</td>\n",
       "      <td>OXIDOREDUCTASE</td>\n",
       "      <td>5</td>\n",
       "    </tr>\n",
       "  </tbody>\n",
       "</table>\n",
       "</div>"
      ],
      "text/plain": [
       "                   name                                           sequence  \\\n",
       "0  sp|Q8L540|LTO1_ARATH  MMARFVSVSSCQFHFGFREVSPPSVTSYPRRFEVSDRRFPAIPIKC...   \n",
       "1  sp|Q9AL95|NROR_CLOAB  MKSTKILILGAGPAGFSAAKAALGKCDDITMINSEKYLPYYRPRLN...   \n",
       "2    sp|P55931|ETFD_PIG  MMVPLAKLASPAYQCFHALKIKKNYLPLCATRWSSTCKVPRITTHY...   \n",
       "3  sp|Q16134|ETFD_HUMAN  MLVPLAKLSCLAYQCFHALKIKKNYLPLCATRWSSTSTVPRITTHY...   \n",
       "4  sp|Q9NZC7|WWOX_HUMAN  MAALRYAGLDDTDSEDELPPGWEERTTKDGWVYYANHTEEKTQWEH...   \n",
       "\n",
       "   classification  type  \n",
       "0  OXIDOREDUCTASE     5  \n",
       "1  OXIDOREDUCTASE     5  \n",
       "2  OXIDOREDUCTASE     5  \n",
       "3  OXIDOREDUCTASE     5  \n",
       "4  OXIDOREDUCTASE     5  "
      ]
     },
     "execution_count": 8,
     "metadata": {},
     "output_type": "execute_result"
    }
   ],
   "source": [
    "df_ox = pd.read_csv('uniprot-oxidoreductase-Feb1.csv')\n",
    "\n",
    "df_ox.head()"
   ]
  },
  {
   "cell_type": "code",
   "execution_count": 9,
   "metadata": {},
   "outputs": [
    {
     "data": {
      "text/html": [
       "<div>\n",
       "<style scoped>\n",
       "    .dataframe tbody tr th:only-of-type {\n",
       "        vertical-align: middle;\n",
       "    }\n",
       "\n",
       "    .dataframe tbody tr th {\n",
       "        vertical-align: top;\n",
       "    }\n",
       "\n",
       "    .dataframe thead th {\n",
       "        text-align: right;\n",
       "    }\n",
       "</style>\n",
       "<table border=\"1\" class=\"dataframe\">\n",
       "  <thead>\n",
       "    <tr style=\"text-align: right;\">\n",
       "      <th></th>\n",
       "      <th>name</th>\n",
       "      <th>sequence</th>\n",
       "      <th>classification</th>\n",
       "      <th>type</th>\n",
       "    </tr>\n",
       "  </thead>\n",
       "  <tbody>\n",
       "    <tr>\n",
       "      <th>0</th>\n",
       "      <td>tr|T0M7Z9|T0M7Z9_CAMFR</td>\n",
       "      <td>MAAVVAFSLRRRFPATTLGGACLQQPWLALQDSLARCVKPTGRDCK...</td>\n",
       "      <td>IRON-SULFUR-CLUSTER</td>\n",
       "      <td>6</td>\n",
       "    </tr>\n",
       "    <tr>\n",
       "      <th>1</th>\n",
       "      <td>tr|A0A1Q9C7M1|A0A1Q9C7M1_SYMMI</td>\n",
       "      <td>MSLAASLRSLAPRGLGRSGLRGFAAMAQPQTFAIYRYDPDQQAKPF...</td>\n",
       "      <td>IRON-SULFUR-CLUSTER</td>\n",
       "      <td>6</td>\n",
       "    </tr>\n",
       "    <tr>\n",
       "      <th>2</th>\n",
       "      <td>tr|A0A2P6TTG2|A0A2P6TTG2_CHLSO</td>\n",
       "      <td>MLSLIRQAGSLGQALCPELTQLVRTVASAAGAAGGASKPVVEKEFL...</td>\n",
       "      <td>IRON-SULFUR-CLUSTER</td>\n",
       "      <td>6</td>\n",
       "    </tr>\n",
       "    <tr>\n",
       "      <th>3</th>\n",
       "      <td>tr|A0A091CKG8|A0A091CKG8_FUKDA</td>\n",
       "      <td>MAAVAGFSLRRRFPATVLGGSCLQACRGAQTAADRAPRIKKFAIYR...</td>\n",
       "      <td>IRON-SULFUR-CLUSTER</td>\n",
       "      <td>6</td>\n",
       "    </tr>\n",
       "    <tr>\n",
       "      <th>4</th>\n",
       "      <td>tr|Q59QN7|Q59QN7_CANAL</td>\n",
       "      <td>MFRSILHQQKAVQFSVRSLATAAAEKAPRLKKFQIYRWNPDTPEVQ...</td>\n",
       "      <td>IRON-SULFUR-CLUSTER</td>\n",
       "      <td>6</td>\n",
       "    </tr>\n",
       "  </tbody>\n",
       "</table>\n",
       "</div>"
      ],
      "text/plain": [
       "                             name  \\\n",
       "0          tr|T0M7Z9|T0M7Z9_CAMFR   \n",
       "1  tr|A0A1Q9C7M1|A0A1Q9C7M1_SYMMI   \n",
       "2  tr|A0A2P6TTG2|A0A2P6TTG2_CHLSO   \n",
       "3  tr|A0A091CKG8|A0A091CKG8_FUKDA   \n",
       "4          tr|Q59QN7|Q59QN7_CANAL   \n",
       "\n",
       "                                            sequence       classification  \\\n",
       "0  MAAVVAFSLRRRFPATTLGGACLQQPWLALQDSLARCVKPTGRDCK...  IRON-SULFUR-CLUSTER   \n",
       "1  MSLAASLRSLAPRGLGRSGLRGFAAMAQPQTFAIYRYDPDQQAKPF...  IRON-SULFUR-CLUSTER   \n",
       "2  MLSLIRQAGSLGQALCPELTQLVRTVASAAGAAGGASKPVVEKEFL...  IRON-SULFUR-CLUSTER   \n",
       "3  MAAVAGFSLRRRFPATVLGGSCLQACRGAQTAADRAPRIKKFAIYR...  IRON-SULFUR-CLUSTER   \n",
       "4  MFRSILHQQKAVQFSVRSLATAAAEKAPRLKKFQIYRWNPDTPEVQ...  IRON-SULFUR-CLUSTER   \n",
       "\n",
       "   type  \n",
       "0     6  \n",
       "1     6  \n",
       "2     6  \n",
       "3     6  \n",
       "4     6  "
      ]
     },
     "execution_count": 9,
     "metadata": {},
     "output_type": "execute_result"
    }
   ],
   "source": [
    "df_FeS = pd.read_csv('uniprot-ironSulfurCluster-Feb1.csv')\n",
    "\n",
    "df_FeS.head()"
   ]
  },
  {
   "cell_type": "code",
   "execution_count": 10,
   "metadata": {},
   "outputs": [
    {
     "data": {
      "text/html": [
       "<div>\n",
       "<style scoped>\n",
       "    .dataframe tbody tr th:only-of-type {\n",
       "        vertical-align: middle;\n",
       "    }\n",
       "\n",
       "    .dataframe tbody tr th {\n",
       "        vertical-align: top;\n",
       "    }\n",
       "\n",
       "    .dataframe thead th {\n",
       "        text-align: right;\n",
       "    }\n",
       "</style>\n",
       "<table border=\"1\" class=\"dataframe\">\n",
       "  <thead>\n",
       "    <tr style=\"text-align: right;\">\n",
       "      <th></th>\n",
       "      <th>name</th>\n",
       "      <th>sequence</th>\n",
       "      <th>classification</th>\n",
       "      <th>type</th>\n",
       "    </tr>\n",
       "  </thead>\n",
       "  <tbody>\n",
       "    <tr>\n",
       "      <th>0</th>\n",
       "      <td>tr|G3V654|G3V654_RAT</td>\n",
       "      <td>MAATTPAQDVGVEIYLGPVWPAPSNSTPLALNLSLALREDAPGNLT...</td>\n",
       "      <td>GPCR</td>\n",
       "      <td>8</td>\n",
       "    </tr>\n",
       "    <tr>\n",
       "      <th>1</th>\n",
       "      <td>tr|A0A287DFW8|A0A287DFW8_ICTTR</td>\n",
       "      <td>MDVTSPAHTFGMEIYPRTTQLADSNSTSPELNLSLPLQGTALVNQT...</td>\n",
       "      <td>GPCR</td>\n",
       "      <td>8</td>\n",
       "    </tr>\n",
       "    <tr>\n",
       "      <th>2</th>\n",
       "      <td>tr|A0A0R4J0N8|A0A0R4J0N8_MOUSE</td>\n",
       "      <td>MEPISVSIYTSDNYSEEVGSGDYDSNKEPCFRDENVHFNRIFLPTI...</td>\n",
       "      <td>GPCR</td>\n",
       "      <td>8</td>\n",
       "    </tr>\n",
       "    <tr>\n",
       "      <th>3</th>\n",
       "      <td>tr|A0A1U7QAF5|A0A1U7QAF5_MESAU</td>\n",
       "      <td>MDPLNLSWYDDDLERQNWSRPFNGSEGKADRPHYNYYAMLLTLLIF...</td>\n",
       "      <td>GPCR</td>\n",
       "      <td>8</td>\n",
       "    </tr>\n",
       "    <tr>\n",
       "      <th>4</th>\n",
       "      <td>tr|A0A0N8ETT2|A0A0N8ETT2_HETGA</td>\n",
       "      <td>MDPLNLTWYDDDLERQNWSRSFNGSEGKADRPHYNYYAMLLTLLIF...</td>\n",
       "      <td>GPCR</td>\n",
       "      <td>8</td>\n",
       "    </tr>\n",
       "  </tbody>\n",
       "</table>\n",
       "</div>"
      ],
      "text/plain": [
       "                             name  \\\n",
       "0            tr|G3V654|G3V654_RAT   \n",
       "1  tr|A0A287DFW8|A0A287DFW8_ICTTR   \n",
       "2  tr|A0A0R4J0N8|A0A0R4J0N8_MOUSE   \n",
       "3  tr|A0A1U7QAF5|A0A1U7QAF5_MESAU   \n",
       "4  tr|A0A0N8ETT2|A0A0N8ETT2_HETGA   \n",
       "\n",
       "                                            sequence classification  type  \n",
       "0  MAATTPAQDVGVEIYLGPVWPAPSNSTPLALNLSLALREDAPGNLT...           GPCR     8  \n",
       "1  MDVTSPAHTFGMEIYPRTTQLADSNSTSPELNLSLPLQGTALVNQT...           GPCR     8  \n",
       "2  MEPISVSIYTSDNYSEEVGSGDYDSNKEPCFRDENVHFNRIFLPTI...           GPCR     8  \n",
       "3  MDPLNLSWYDDDLERQNWSRPFNGSEGKADRPHYNYYAMLLTLLIF...           GPCR     8  \n",
       "4  MDPLNLTWYDDDLERQNWSRSFNGSEGKADRPHYNYYAMLLTLLIF...           GPCR     8  "
      ]
     },
     "execution_count": 10,
     "metadata": {},
     "output_type": "execute_result"
    }
   ],
   "source": [
    "df_gpcr = pd.read_csv('uniprot-gpcr-unreviewed.csv')\n",
    "\n",
    "df_gpcr.head()"
   ]
  },
  {
   "cell_type": "code",
   "execution_count": 11,
   "metadata": {},
   "outputs": [
    {
     "data": {
      "text/plain": [
       "(31401, 4)"
      ]
     },
     "execution_count": 11,
     "metadata": {},
     "output_type": "execute_result"
    }
   ],
   "source": [
    "df_gp2 = df_gpcr.sample(frac=0.16)\n",
    "\n",
    "df_gp2.shape"
   ]
  },
  {
   "cell_type": "code",
   "execution_count": 12,
   "metadata": {},
   "outputs": [
    {
     "data": {
      "text/plain": [
       "(31304, 4)"
      ]
     },
     "execution_count": 12,
     "metadata": {},
     "output_type": "execute_result"
    }
   ],
   "source": [
    "df_lb = pd.read_csv('uniprot-lipidBinding-Feb5.csv')\n",
    "df_lb2 = df_lb.sample(frac=0.5)\n",
    "\n",
    "df_lb2.shape"
   ]
  },
  {
   "cell_type": "code",
   "execution_count": 13,
   "metadata": {},
   "outputs": [
    {
     "data": {
      "text/plain": [
       "(47019, 4)"
      ]
     },
     "execution_count": 13,
     "metadata": {},
     "output_type": "execute_result"
    }
   ],
   "source": [
    "df_tr = pd.read_csv('uniprot-transport-Feb6.csv')\n",
    "df_tr2 = df_tr.sample(frac=0.75)\n",
    "\n",
    "df_tr2.shape"
   ]
  },
  {
   "cell_type": "code",
   "execution_count": 14,
   "metadata": {},
   "outputs": [
    {
     "data": {
      "text/plain": [
       "(3642, 4)"
      ]
     },
     "execution_count": 14,
     "metadata": {},
     "output_type": "execute_result"
    }
   ],
   "source": [
    "df_abc = pd.read_csv('uniprot-ABC-Feb8.csv')\n",
    "\n",
    "df_abc.shape"
   ]
  },
  {
   "cell_type": "code",
   "execution_count": 15,
   "metadata": {},
   "outputs": [
    {
     "data": {
      "text/plain": [
       "(60440, 4)"
      ]
     },
     "execution_count": 15,
     "metadata": {},
     "output_type": "execute_result"
    }
   ],
   "source": [
    "df_dna = pd.read_csv('uniprot-DNA-Binding-Feb8.csv')\n",
    "\n",
    "df_dna.shape"
   ]
  },
  {
   "cell_type": "code",
   "execution_count": 16,
   "metadata": {},
   "outputs": [
    {
     "data": {
      "text/plain": [
       "Index([u'classification', u'name', u'sequence', u'structureId', u'type'], dtype='object')"
      ]
     },
     "execution_count": 16,
     "metadata": {},
     "output_type": "execute_result"
    }
   ],
   "source": [
    "df.columns"
   ]
  },
  {
   "cell_type": "code",
   "execution_count": 17,
   "metadata": {},
   "outputs": [
    {
     "data": {
      "text/plain": [
       "(104956, 5)"
      ]
     },
     "execution_count": 17,
     "metadata": {},
     "output_type": "execute_result"
    }
   ],
   "source": [
    "df.shape"
   ]
  },
  {
   "cell_type": "code",
   "execution_count": 18,
   "metadata": {},
   "outputs": [
    {
     "name": "stderr",
     "output_type": "stream",
     "text": [
      "/Users/scottlew/anaconda2/lib/python2.7/site-packages/ipykernel_launcher.py:2: FutureWarning: Sorting because non-concatenation axis is not aligned. A future version\n",
      "of pandas will change to not sort by default.\n",
      "\n",
      "To accept the future behavior, pass 'sort=False'.\n",
      "\n",
      "To retain the current behavior and silence the warning, pass 'sort=True'.\n",
      "\n",
      "  \n"
     ]
    },
    {
     "data": {
      "text/html": [
       "<div>\n",
       "<style scoped>\n",
       "    .dataframe tbody tr th:only-of-type {\n",
       "        vertical-align: middle;\n",
       "    }\n",
       "\n",
       "    .dataframe tbody tr th {\n",
       "        vertical-align: top;\n",
       "    }\n",
       "\n",
       "    .dataframe thead th {\n",
       "        text-align: right;\n",
       "    }\n",
       "</style>\n",
       "<table border=\"1\" class=\"dataframe\">\n",
       "  <thead>\n",
       "    <tr style=\"text-align: right;\">\n",
       "      <th></th>\n",
       "      <th>classification</th>\n",
       "      <th>name</th>\n",
       "      <th>sequence</th>\n",
       "      <th>structureId</th>\n",
       "      <th>type</th>\n",
       "    </tr>\n",
       "  </thead>\n",
       "  <tbody>\n",
       "    <tr>\n",
       "      <th>0</th>\n",
       "      <td>TRANSFERASE</td>\n",
       "      <td>NaN</td>\n",
       "      <td>MEIYEGKLTAEGLRFGIVASRFNHALVDRLVEGAIDCIVRHGGREE...</td>\n",
       "      <td>5MPP</td>\n",
       "      <td>4</td>\n",
       "    </tr>\n",
       "    <tr>\n",
       "      <th>1</th>\n",
       "      <td>HYDROLASE</td>\n",
       "      <td>NaN</td>\n",
       "      <td>MKFTLTIAGLLAVGSTAAPTTEKRNPGGIDYVQNYNGDVADFQYNE...</td>\n",
       "      <td>3M4F</td>\n",
       "      <td>0</td>\n",
       "    </tr>\n",
       "    <tr>\n",
       "      <th>2</th>\n",
       "      <td>TRANSFERASE</td>\n",
       "      <td>NaN</td>\n",
       "      <td>MRGSHHHHHHGSMKRAVITGLGIVSSIGNNQQEVLASLREGRSGIT...</td>\n",
       "      <td>2BYY</td>\n",
       "      <td>4</td>\n",
       "    </tr>\n",
       "    <tr>\n",
       "      <th>3</th>\n",
       "      <td>HYDROLASE</td>\n",
       "      <td>NaN</td>\n",
       "      <td>STGSATTTPIDSLDDAYITPVQIGTPAQTLNLDFDTGSSDLWVFSS...</td>\n",
       "      <td>4YCY</td>\n",
       "      <td>0</td>\n",
       "    </tr>\n",
       "    <tr>\n",
       "      <th>4</th>\n",
       "      <td>TRANSFERASE</td>\n",
       "      <td>NaN</td>\n",
       "      <td>GSGMMRYLHKIELELNRLTSRYPFFKKIAFDAEIIKLVDDLNVDEN...</td>\n",
       "      <td>3AQC</td>\n",
       "      <td>4</td>\n",
       "    </tr>\n",
       "  </tbody>\n",
       "</table>\n",
       "</div>"
      ],
      "text/plain": [
       "  classification name                                           sequence  \\\n",
       "0    TRANSFERASE  NaN  MEIYEGKLTAEGLRFGIVASRFNHALVDRLVEGAIDCIVRHGGREE...   \n",
       "1      HYDROLASE  NaN  MKFTLTIAGLLAVGSTAAPTTEKRNPGGIDYVQNYNGDVADFQYNE...   \n",
       "2    TRANSFERASE  NaN  MRGSHHHHHHGSMKRAVITGLGIVSSIGNNQQEVLASLREGRSGIT...   \n",
       "3      HYDROLASE  NaN  STGSATTTPIDSLDDAYITPVQIGTPAQTLNLDFDTGSSDLWVFSS...   \n",
       "4    TRANSFERASE  NaN  GSGMMRYLHKIELELNRLTSRYPFFKKIAFDAEIIKLVDDLNVDEN...   \n",
       "\n",
       "  structureId  type  \n",
       "0        5MPP     4  \n",
       "1        3M4F     0  \n",
       "2        2BYY     4  \n",
       "3        4YCY     0  \n",
       "4        3AQC     4  "
      ]
     },
     "execution_count": 18,
     "metadata": {},
     "output_type": "execute_result"
    }
   ],
   "source": [
    "# concat the dataframes\n",
    "df_ = pd.concat([df,df3,df_h2,df_ox,df_FeS,df_gp2,df_lb2,df_tr2,df_abc,df_dna])\n",
    "\n",
    "df_.head()"
   ]
  },
  {
   "cell_type": "code",
   "execution_count": 19,
   "metadata": {},
   "outputs": [
    {
     "data": {
      "text/plain": [
       "(404127, 5)"
      ]
     },
     "execution_count": 19,
     "metadata": {},
     "output_type": "execute_result"
    }
   ],
   "source": [
    "df_.shape"
   ]
  },
  {
   "cell_type": "code",
   "execution_count": 20,
   "metadata": {},
   "outputs": [],
   "source": [
    "# drop 'old' function/type column\n",
    "#df.drop(columns=['type'])"
   ]
  },
  {
   "cell_type": "code",
   "execution_count": 21,
   "metadata": {},
   "outputs": [],
   "source": [
    "# use label encoder to create new numbers for each function\n",
    "le = preprocessing.LabelEncoder()\n",
    "le.fit(df.classification)\n",
    "df['type'] = le.transform(df['classification'])"
   ]
  },
  {
   "cell_type": "markdown",
   "metadata": {},
   "source": [
    "## Remove duplicate protein sequences from data"
   ]
  },
  {
   "cell_type": "code",
   "execution_count": 22,
   "metadata": {},
   "outputs": [
    {
     "data": {
      "text/plain": [
       "(380091, 5)"
      ]
     },
     "execution_count": 22,
     "metadata": {},
     "output_type": "execute_result"
    }
   ],
   "source": [
    "# remove the duplicate protein sequences\n",
    "df_ = df_.drop_duplicates(subset='sequence', keep=\"first\")\n",
    "\n",
    "df_.shape"
   ]
  },
  {
   "cell_type": "markdown",
   "metadata": {},
   "source": [
    "## 11 Classes of Proteins"
   ]
  },
  {
   "cell_type": "code",
   "execution_count": 23,
   "metadata": {},
   "outputs": [
    {
     "data": {
      "text/plain": [
       "DNA BINDING            52960\n",
       "TRANSPORT              38067\n",
       "OXIDOREDUCTASE         37593\n",
       "HYDROLASE              37417\n",
       "TRANSFERASE            35880\n",
       "LIGASE                 33967\n",
       "IMMUNE SYSTEM          33436\n",
       "GPCR                   31400\n",
       "LIPID BINDING          31198\n",
       "IRON-SULFUR-CLUSTER    31185\n",
       "ISOMERASE              16988\n",
       "Name: classification, dtype: int64"
      ]
     },
     "execution_count": 23,
     "metadata": {},
     "output_type": "execute_result"
    }
   ],
   "source": [
    "df_.classification.value_counts()"
   ]
  },
  {
   "cell_type": "code",
   "execution_count": 24,
   "metadata": {},
   "outputs": [
    {
     "data": {
      "text/plain": [
       "12    52960\n",
       "10    38067\n",
       "5     37593\n",
       "0     37417\n",
       "4     35880\n",
       "3     33967\n",
       "1     33436\n",
       "8     31400\n",
       "9     31198\n",
       "6     31185\n",
       "2     16988\n",
       "Name: type, dtype: int64"
      ]
     },
     "execution_count": 24,
     "metadata": {},
     "output_type": "execute_result"
    }
   ],
   "source": [
    "df_.type.value_counts()"
   ]
  },
  {
   "cell_type": "markdown",
   "metadata": {},
   "source": [
    "## Subset the data: use fewer rows of data for quicker comparison of XGBoost with other models"
   ]
  },
  {
   "cell_type": "code",
   "execution_count": 25,
   "metadata": {},
   "outputs": [
    {
     "data": {
      "text/plain": [
       "(125430, 5)"
      ]
     },
     "execution_count": 25,
     "metadata": {},
     "output_type": "execute_result"
    }
   ],
   "source": [
    "df_new= df_.sample(frac = 0.33)\n",
    "\n",
    "df_new.shape"
   ]
  },
  {
   "cell_type": "markdown",
   "metadata": {},
   "source": [
    "## Classifier of Protein Sequences: Predict 10 Classes"
   ]
  },
  {
   "cell_type": "markdown",
   "metadata": {},
   "source": [
    "## CountVectorizer: Count peptide frequency, transform the data"
   ]
  },
  {
   "cell_type": "code",
   "execution_count": 26,
   "metadata": {},
   "outputs": [],
   "source": [
    "# In this case, peptide frequency is used for analysis\n",
    "peptide_size = 5\n",
    "vect_ = CountVectorizer(min_df=1,token_pattern=r'\\w{1}',ngram_range=(peptide_size,peptide_size))"
   ]
  },
  {
   "cell_type": "markdown",
   "metadata": {},
   "source": [
    "## Split the data into training & test sets for classification model"
   ]
  },
  {
   "cell_type": "code",
   "execution_count": 27,
   "metadata": {},
   "outputs": [],
   "source": [
    "X = vect_.fit_transform(df_new.sequence)\n",
    "y = df_new.type"
   ]
  },
  {
   "cell_type": "code",
   "execution_count": 28,
   "metadata": {},
   "outputs": [
    {
     "name": "stdout",
     "output_type": "stream",
     "text": [
      "((100344, 2843077), (100344,))\n",
      "((25086, 2843077), (25086,))\n"
     ]
    }
   ],
   "source": [
    "# Split the data into training and test sets\n",
    "X_train, X_test, y_train, y_test = train_test_split(X,y, test_size=0.2,random_state =42)\n",
    "print(X_train.shape, y_train.shape)\n",
    "print(X_test.shape, y_test.shape)"
   ]
  },
  {
   "cell_type": "code",
   "execution_count": 29,
   "metadata": {},
   "outputs": [
    {
     "data": {
      "text/plain": [
       "12    3524\n",
       "5     2493\n",
       "0     2426\n",
       "10    2412\n",
       "4     2308\n",
       "3     2299\n",
       "1     2230\n",
       "8     2116\n",
       "6     2078\n",
       "9     2039\n",
       "2     1161\n",
       "Name: type, dtype: int64"
      ]
     },
     "execution_count": 29,
     "metadata": {},
     "output_type": "execute_result"
    }
   ],
   "source": [
    "y_test.value_counts()"
   ]
  },
  {
   "cell_type": "markdown",
   "metadata": {},
   "source": [
    "## Classification Models"
   ]
  },
  {
   "cell_type": "markdown",
   "metadata": {},
   "source": [
    "## Logistic Regression Classifier Model"
   ]
  },
  {
   "cell_type": "code",
   "execution_count": 30,
   "metadata": {},
   "outputs": [
    {
     "name": "stderr",
     "output_type": "stream",
     "text": [
      "/Users/scottlew/anaconda2/lib/python2.7/site-packages/sklearn/linear_model/logistic.py:433: FutureWarning: Default solver will be changed to 'lbfgs' in 0.22. Specify a solver to silence this warning.\n",
      "  FutureWarning)\n",
      "/Users/scottlew/anaconda2/lib/python2.7/site-packages/sklearn/svm/base.py:931: ConvergenceWarning: Liblinear failed to converge, increase the number of iterations.\n",
      "  \"the number of iterations.\", ConvergenceWarning)\n"
     ]
    },
    {
     "name": "stdout",
     "output_type": "stream",
     "text": [
      "Logistic Regression Score: 0.86\n",
      "\n",
      "CPU times: user 1h 22min 36s, sys: 38.3 s, total: 1h 23min 15s\n",
      "Wall time: 1h 46min 38s\n"
     ]
    }
   ],
   "source": [
    "%%time\n",
    "# Logistic Regression \n",
    "lr = LogisticRegression(multi_class='ovr')\n",
    "lr.fit(X_train, y_train)\n",
    "\n",
    "print(\"Logistic Regression Score: {:.2f}\".format(lr.score(X_test, y_test)))\n",
    "print"
   ]
  },
  {
   "cell_type": "code",
   "execution_count": 32,
   "metadata": {},
   "outputs": [
    {
     "name": "stderr",
     "output_type": "stream",
     "text": [
      "/Users/scottlew/anaconda2/lib/python2.7/site-packages/sklearn/linear_model/logistic.py:460: FutureWarning: Default multi_class will be changed to 'auto' in 0.22. Specify the multi_class option to silence this warning.\n",
      "  \"this warning.\", FutureWarning)\n"
     ]
    },
    {
     "name": "stdout",
     "output_type": "stream",
     "text": [
      "Logistic Regression Score: 0.86\n",
      "\n",
      "CPU times: user 1h 23min 30s, sys: 42.9 s, total: 1h 24min 13s\n",
      "Wall time: 2h 13min 34s\n"
     ]
    }
   ],
   "source": [
    "%%time\n",
    "# Logistic Regression \n",
    "lr = LogisticRegression()\n",
    "lr.fit(X_train, y_train)\n",
    "\n",
    "print(\"Logistic Regression Score: {:.2f}\".format(lr.score(X_test, y_test)))\n",
    "print"
   ]
  },
  {
   "cell_type": "markdown",
   "metadata": {},
   "source": [
    "# One vs. One constructs one classifier per pair of classes. \n",
    "# At prediction time, the class which received the most votes is selected. In the event of a tie among two classes with an equal number of votes), it selects the class with the highest aggregate classification confidence by summing over the pair-wise classification confidence levels computed by the underlying binary classifiers. \n"
   ]
  },
  {
   "cell_type": "code",
   "execution_count": 31,
   "metadata": {},
   "outputs": [
    {
     "name": "stdout",
     "output_type": "stream",
     "text": [
      "One vs. One Logistic Regression classifier Score: 0.84\n",
      "()\n",
      "CPU times: user 52min 41s, sys: 42.2 s, total: 53min 23s\n",
      "Wall time: 1h 51min 16s\n"
     ]
    }
   ],
   "source": [
    "%%time\n",
    "clf = OneVsOneClassifier(LogisticRegression())\n",
    "clf.fit(X_train, y_train)\n",
    "# evaluate accuracy of our model on test data\n",
    "print(\"One vs. One Logistic Regression classifier Score: {:.2f}\".format(clf.score(X_test, y_test)))\n",
    "print()"
   ]
  },
  {
   "cell_type": "code",
   "execution_count": null,
   "metadata": {},
   "outputs": [],
   "source": []
  }
 ],
 "metadata": {
  "kernelspec": {
   "display_name": "Python 2",
   "language": "python",
   "name": "python2"
  },
  "language_info": {
   "codemirror_mode": {
    "name": "ipython",
    "version": 2
   },
   "file_extension": ".py",
   "mimetype": "text/x-python",
   "name": "python",
   "nbconvert_exporter": "python",
   "pygments_lexer": "ipython2",
   "version": "2.7.16"
  }
 },
 "nbformat": 4,
 "nbformat_minor": 2
}
